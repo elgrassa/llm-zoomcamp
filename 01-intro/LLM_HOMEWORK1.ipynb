{
 "cells": [
  {
   "cell_type": "code",
   "execution_count": 9,
   "id": "fcdb8116-00be-42b2-be71-bc79fded9a5a",
   "metadata": {},
   "outputs": [
    {
     "name": "stdout",
     "output_type": "stream",
     "text": [
      "4e3a404bb47195cb0824dfc8dfe1410ffa967196ff2bcf7986fbd76d580f195e\n"
     ]
    }
   ],
   "source": [
    "# LLM Zoomcamp – Homework 1: Introduction\n",
    "# Author: Pavlo Skorodziievskyi\n",
    "# Container Startup (Q1)\n",
    "# --------------------------\n",
    "# Run this in a notebook shell cell or terminal\n",
    "!docker run -d \\\n",
    "  --name elasticsearch \\\n",
    "  -p 9200:9200 \\\n",
    "  -e \"discovery.type=single-node\" \\\n",
    "  -e \"xpack.security.enabled=false\" \\\n",
    "  docker.elastic.co/elasticsearch/elasticsearch:8.17.6"
   ]
  },
  {
   "cell_type": "code",
   "execution_count": 15,
   "id": "d810ab52-7514-4e31-8ca7-8ae08db76fbb",
   "metadata": {},
   "outputs": [
    {
     "name": "stdout",
     "output_type": "stream",
     "text": [
      "{\n",
      "  \"name\" : \"4e3a404bb471\",\n",
      "  \"cluster_name\" : \"docker-cluster\",\n",
      "  \"cluster_uuid\" : \"i3oSddDwTBacMRRvtwbtNA\",\n",
      "  \"version\" : {\n",
      "    \"number\" : \"8.17.6\",\n",
      "    \"build_flavor\" : \"default\",\n",
      "    \"build_type\" : \"docker\",\n",
      "    \"build_hash\" : \"dbcbbbd0bc4924cfeb28929dc05d82d662c527b7\",\n",
      "    \"build_date\" : \"2025-04-30T14:07:12.231372970Z\",\n",
      "    \"build_snapshot\" : false,\n",
      "    \"lucene_version\" : \"9.12.0\",\n",
      "    \"minimum_wire_compatibility_version\" : \"7.17.0\",\n",
      "    \"minimum_index_compatibility_version\" : \"7.0.0\"\n",
      "  },\n",
      "  \"tagline\" : \"You Know, for Search\"\n",
      "}\n"
     ]
    }
   ],
   "source": [
    "# helath check\n",
    "!curl localhost:9200"
   ]
  },
  {
   "cell_type": "code",
   "execution_count": 17,
   "id": "8c625317-f7ff-48bc-bd58-f98307a9c445",
   "metadata": {},
   "outputs": [
    {
     "name": "stdout",
     "output_type": "stream",
     "text": [
      "\u001b[33mWARNING: Skipping elasticsearch as it is not installed.\u001b[0m\u001b[33m\n",
      "\u001b[0m\u001b[33mWARNING: Skipping elastic-transport as it is not installed.\u001b[0m\u001b[33m\n",
      "\u001b[0m\u001b[33mWARNING: Skipping urllib3 as it is not installed.\u001b[0m\u001b[33m\n",
      "\u001b[0m"
     ]
    }
   ],
   "source": [
    "!pip uninstall -y elasticsearch elastic-transport urllib3"
   ]
  },
  {
   "cell_type": "code",
   "execution_count": 19,
   "id": "b11f456f-9f57-4535-a9eb-91ccd84ef9ff",
   "metadata": {},
   "outputs": [
    {
     "name": "stdout",
     "output_type": "stream",
     "text": [
      "Collecting urllib3<2\n",
      "  Using cached urllib3-1.26.20-py2.py3-none-any.whl.metadata (50 kB)\n",
      "Collecting elasticsearch==8.12.1\n",
      "  Using cached elasticsearch-8.12.1-py3-none-any.whl.metadata (5.3 kB)\n",
      "Collecting elastic-transport<9,>=8 (from elasticsearch==8.12.1)\n",
      "  Using cached elastic_transport-8.17.1-py3-none-any.whl.metadata (3.8 kB)\n",
      "Requirement already satisfied: certifi in /opt/anaconda3/lib/python3.12/site-packages (from elastic-transport<9,>=8->elasticsearch==8.12.1) (2025.6.15)\n",
      "Using cached elasticsearch-8.12.1-py3-none-any.whl (432 kB)\n",
      "Using cached urllib3-1.26.20-py2.py3-none-any.whl (144 kB)\n",
      "Using cached elastic_transport-8.17.1-py3-none-any.whl (64 kB)\n",
      "Installing collected packages: urllib3, elastic-transport, elasticsearch\n",
      "\u001b[31mERROR: pip's dependency resolver does not currently take into account all the packages that are installed. This behaviour is the source of the following dependency conflicts.\n",
      "streamlit 1.37.1 requires packaging<25,>=20, but you have packaging 25.0 which is incompatible.\n",
      "conda-repo-cli 1.0.114 requires urllib3>=2.2.2, but you have urllib3 1.26.20 which is incompatible.\u001b[0m\u001b[31m\n",
      "\u001b[0mSuccessfully installed elastic-transport-8.17.1 elasticsearch-8.12.1 urllib3-1.26.20\n"
     ]
    }
   ],
   "source": [
    "# Install the library if not already\n",
    "# !pip install elasticsearch==8.12.1 --force-reinstall --no-cache-dir\n",
    "!pip install \"urllib3<2\" \"elasticsearch==8.12.1\""
   ]
  },
  {
   "cell_type": "code",
   "execution_count": 21,
   "id": "131941b5-a378-4693-9f4d-651c03b97bc6",
   "metadata": {},
   "outputs": [
    {
     "name": "stdout",
     "output_type": "stream",
     "text": [
      "Elasticsearch client version: (8, 12, 1)\n",
      "Q1. Build Hash: dbcbbbd0bc4924cfeb28929dc05d82d662c527b7\n"
     ]
    }
   ],
   "source": [
    "import elasticsearch\n",
    "print(\"Elasticsearch client version:\", elasticsearch.__version__)\n",
    "assert elasticsearch.__version__[0] == 8, \"Wrong ES client version loaded.\"\n",
    "\n",
    "from elasticsearch import Elasticsearch\n",
    "\n",
    "# Connect to your local ES instance\n",
    "es = Elasticsearch(\"http://localhost:9200\")\n",
    "\n",
    "# Get cluster info\n",
    "cluster_info = es.info()\n",
    "print(\"Q1. Build Hash:\", cluster_info['version']['build_hash'])"
   ]
  },
  {
   "cell_type": "code",
   "execution_count": 39,
   "id": "65bfae3b-3944-43ad-a6d2-91c4a68991b5",
   "metadata": {},
   "outputs": [
    {
     "name": "stdout",
     "output_type": "stream",
     "text": [
      "(9, 0, 2)\n"
     ]
    }
   ],
   "source": [
    "import elasticsearch\n",
    "print(elasticsearch.__version__)"
   ]
  },
  {
   "cell_type": "code",
   "execution_count": null,
   "id": "be4622f5-0a3b-4ba7-b558-bd9d31ac117d",
   "metadata": {},
   "outputs": [],
   "source": [
    "# Q2:"
   ]
  },
  {
   "cell_type": "code",
   "execution_count": 23,
   "id": "b9d5133e-5940-4c8e-9da7-fec411d149d8",
   "metadata": {},
   "outputs": [
    {
     "name": "stdout",
     "output_type": "stream",
     "text": [
      "Total documents loaded: 948\n"
     ]
    },
    {
     "data": {
      "text/plain": [
       "{'text': \"The purpose of this document is to capture frequently asked technical questions\\nThe exact day and hour of the course will be 15th Jan 2024 at 17h00. The course will start with the first  “Office Hours'' live.1\\nSubscribe to course public Google Calendar (it works from Desktop only).\\nRegister before the course starts using this link.\\nJoin the course Telegram channel with announcements.\\nDon’t forget to register in DataTalks.Club's Slack and join the channel.\",\n",
       " 'section': 'General course-related questions',\n",
       " 'question': 'Course - When will the course start?',\n",
       " 'course': 'data-engineering-zoomcamp'}"
      ]
     },
     "execution_count": 23,
     "metadata": {},
     "output_type": "execute_result"
    }
   ],
   "source": [
    "import requests\n",
    "\n",
    "docs_url = 'https://github.com/DataTalksClub/llm-zoomcamp/blob/main/01-intro/documents.json?raw=1'\n",
    "docs_response = requests.get(docs_url)\n",
    "documents_raw = docs_response.json()\n",
    "\n",
    "documents = []\n",
    "\n",
    "for course in documents_raw:\n",
    "    course_name = course['course']\n",
    "    for doc in course['documents']:\n",
    "        doc['course'] = course_name\n",
    "        documents.append(doc)\n",
    "\n",
    "print(f\"Total documents loaded: {len(documents)}\")\n",
    "documents[0]"
   ]
  },
  {
   "cell_type": "code",
   "execution_count": 25,
   "id": "776d600d-5761-448e-939c-a894a9a3b4d3",
   "metadata": {},
   "outputs": [
    {
     "data": {
      "text/plain": [
       "ObjectApiResponse({'acknowledged': True, 'shards_acknowledged': True, 'index': 'faq'})"
      ]
     },
     "execution_count": 25,
     "metadata": {},
     "output_type": "execute_result"
    }
   ],
   "source": [
    "# Create index\n",
    "from elasticsearch import Elasticsearch\n",
    "\n",
    "es = Elasticsearch(\"http://localhost:9200\")\n",
    "\n",
    "# Delete the index if it exists (for clean re-runs)\n",
    "if es.indices.exists(index=\"faq\"):\n",
    "    es.indices.delete(index=\"faq\")\n",
    "\n",
    "mapping = {\n",
    "    \"mappings\": {\n",
    "        \"properties\": {\n",
    "            \"question\": {\"type\": \"text\"},\n",
    "            \"text\": {\"type\": \"text\"},\n",
    "            \"course\": {\"type\": \"keyword\"}\n",
    "        }\n",
    "    }\n",
    "}\n",
    "\n",
    "es.indices.create(index=\"faq\", body=mapping)"
   ]
  },
  {
   "cell_type": "code",
   "execution_count": 27,
   "id": "144527de-d4d9-4261-85fb-325b032966b2",
   "metadata": {},
   "outputs": [],
   "source": [
    "for doc in documents:\n",
    "    es.index(index=\"faq\", document=doc)"
   ]
  },
  {
   "cell_type": "code",
   "execution_count": 33,
   "id": "6bb99a05-67d5-42d5-82b2-ec2382d1cdd6",
   "metadata": {},
   "outputs": [
    {
     "name": "stdout",
     "output_type": "stream",
     "text": [
      "Q3. Top _score: 44.51\n",
      "Top Question: How do I debug a docker container?\n"
     ]
    }
   ],
   "source": [
    "query = {\n",
    "    \"query\": {\n",
    "        \"multi_match\": {\n",
    "            \"query\": \"How do execute a command on a Kubernetes pod?\",\n",
    "            \"fields\": [\"question^4\", \"text\"],\n",
    "            \"type\": \"best_fields\"\n",
    "        }\n",
    "    }\n",
    "}\n",
    "\n",
    "res = es.search(index=\"faq\", body=query)\n",
    "top_hit = res['hits']['hits'][0]\n",
    "\n",
    "print(f\"Q3. Top _score: {top_hit['_score']:.2f}\")\n",
    "print(\"Top Question:\", top_hit['_source']['question'])"
   ]
  },
  {
   "cell_type": "code",
   "execution_count": 35,
   "id": "91aaac89-a2fb-4353-902c-1b4dce918283",
   "metadata": {},
   "outputs": [
    {
     "name": "stdout",
     "output_type": "stream",
     "text": [
      "1. How do I debug a docker container?\n",
      "2. How do I copy files from my local machine to docker container?\n",
      "3. How do I copy files from a different folder into docker container’s working directory?\n"
     ]
    }
   ],
   "source": [
    "# Q4\n",
    "query = {\n",
    "    \"query\": {\n",
    "        \"bool\": {\n",
    "            \"must\": {\n",
    "                \"multi_match\": {\n",
    "                    \"query\": \"How do copy a file to a Docker container?\",\n",
    "                    \"fields\": [\"question^4\", \"text\"],\n",
    "                    \"type\": \"best_fields\"\n",
    "                }\n",
    "            },\n",
    "            \"filter\": {\n",
    "                \"term\": {\n",
    "                    \"course\": \"machine-learning-zoomcamp\"\n",
    "                }\n",
    "            }\n",
    "        }\n",
    "    },\n",
    "    \"size\": 3\n",
    "}\n",
    "\n",
    "res = es.search(index=\"faq\", body=query)\n",
    "\n",
    "for i, hit in enumerate(res['hits']['hits'], 1):\n",
    "    print(f\"{i}. {hit['_source']['question']}\")"
   ]
  },
  {
   "cell_type": "code",
   "execution_count": 37,
   "id": "25451732-b0ab-459d-a22e-b82b7cdfc3d6",
   "metadata": {},
   "outputs": [],
   "source": [
    "# Q5:\n",
    "context_template = \"\"\"\n",
    "Q: {question}\n",
    "A: {text}\n",
    "\"\"\".strip()\n",
    "\n",
    "context = \"\\n\\n\".join([\n",
    "    context_template.format(\n",
    "        question=hit[\"_source\"][\"question\"],\n",
    "        text=hit[\"_source\"][\"text\"]\n",
    "    )\n",
    "    for hit in res[\"hits\"][\"hits\"]\n",
    "])"
   ]
  },
  {
   "cell_type": "code",
   "execution_count": 39,
   "id": "36519b62-5e0d-47e6-a722-4edd6c95e428",
   "metadata": {},
   "outputs": [],
   "source": [
    "prompt_template = \"\"\"\n",
    "You're a course teaching assistant. Answer the QUESTION based on the CONTEXT from the FAQ database.\n",
    "Use only the facts from the CONTEXT when answering the QUESTION.\n",
    "\n",
    "QUESTION: {question}\n",
    "\n",
    "CONTEXT:\n",
    "{context}\n",
    "\"\"\".strip()\n",
    "\n",
    "prompt = prompt_template.format(\n",
    "    question=\"How do copy a file to a Docker container?\",\n",
    "    context=context\n",
    ")\n"
   ]
  },
  {
   "cell_type": "code",
   "execution_count": 41,
   "id": "f87c70d5-55b1-4ee7-aee2-db2f3ea75db8",
   "metadata": {},
   "outputs": [
    {
     "name": "stdout",
     "output_type": "stream",
     "text": [
      "Q5. Prompt length: 1446\n"
     ]
    }
   ],
   "source": [
    "print(\"Q5. Prompt length:\", len(prompt))"
   ]
  },
  {
   "cell_type": "code",
   "execution_count": null,
   "id": "fb7c4a2c-4b1c-4a6e-834f-ba6b4fcf4e8e",
   "metadata": {},
   "outputs": [],
   "source": []
  }
 ],
 "metadata": {
  "kernelspec": {
   "display_name": "Python [conda env:base] *",
   "language": "python",
   "name": "conda-base-py"
  },
  "language_info": {
   "codemirror_mode": {
    "name": "ipython",
    "version": 3
   },
   "file_extension": ".py",
   "mimetype": "text/x-python",
   "name": "python",
   "nbconvert_exporter": "python",
   "pygments_lexer": "ipython3",
   "version": "3.12.7"
  }
 },
 "nbformat": 4,
 "nbformat_minor": 5
}
